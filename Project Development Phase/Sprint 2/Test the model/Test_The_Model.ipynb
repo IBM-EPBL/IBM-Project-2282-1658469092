{
  "nbformat": 4,
  "nbformat_minor": 0,
  "metadata": {
    "colab": {
      "provenance": [],
      "collapsed_sections": [],
      "toc_visible": true
    },
    "kernelspec": {
      "name": "python3",
      "display_name": "Python 3"
    },
    "language_info": {
      "name": "python"
    },
    "accelerator": "TPU",
    "gpuClass": "standard"
  },
  "cells": [
    {
      "cell_type": "markdown",
      "source": [
        "# ***Sprint - 1***"
      ],
      "metadata": {
        "id": "i9qsZOYc4gDd"
      }
    },
    {
      "cell_type": "markdown",
      "source": [
        "# Image preprocessing"
      ],
      "metadata": {
        "id": "PT8wDzdp13DU"
      }
    },
    {
      "cell_type": "markdown",
      "source": [
        "Importing data set"
      ],
      "metadata": {
        "id": "7j7Gqe_zDjW4"
      }
    },
    {
      "cell_type": "code",
      "source": [
        "!unzip '/content/conversation engine for deaf and dumb.zip'"
      ],
      "metadata": {
        "id": "qRmgDr4REhpL"
      },
      "execution_count": null,
      "outputs": []
    },
    {
      "cell_type": "code",
      "source": [
        "from google.colab import drive\n",
        "drive.mount('/content/drive')"
      ],
      "metadata": {
        "id": "PWa8xpfbvXvE"
      },
      "execution_count": null,
      "outputs": []
    },
    {
      "cell_type": "markdown",
      "source": [
        "Import ImageDataGenerator Library And Configure It"
      ],
      "metadata": {
        "id": "CiX2QKt_N1_6"
      }
    },
    {
      "cell_type": "code",
      "execution_count": null,
      "metadata": {
        "id": "RWGfOaedzY27"
      },
      "outputs": [],
      "source": [
        "from tensorflow.keras.preprocessing.image import ImageDataGenerator"
      ]
    },
    {
      "cell_type": "code",
      "source": [
        "# Training Datagen\n",
        "train_datagen = ImageDataGenerator(rescale=1./255,zoom_range=0.2,horizontal_flip=True)\n",
        "# Testing Datagen\n",
        "test_datagen = ImageDataGenerator(rescale=1./255)"
      ],
      "metadata": {
        "id": "kwJ0kxBZ2kJJ"
      },
      "execution_count": null,
      "outputs": []
    },
    {
      "cell_type": "markdown",
      "source": [
        "Applying ImageDataGenerator Functionality To Train And Test Set"
      ],
      "metadata": {
        "id": "EtWTvK0i2SYh"
      }
    },
    {
      "cell_type": "code",
      "source": [
        "# Training Dataset\n",
        "x_train=train_datagen.flow_from_directory('/content/drive/MyDrive/Dataset/training_set',target_size=(64,64),class_mode='categorical',batch_size=1000)"
      ],
      "metadata": {
        "colab": {
          "base_uri": "https://localhost:8080/"
        },
        "id": "0BIx_w30FsaV",
        "outputId": "8fb10c50-432d-4e92-e006-9e85b60d12b3"
      },
      "execution_count": null,
      "outputs": [
        {
          "output_type": "stream",
          "name": "stdout",
          "text": [
            "Found 15760 images belonging to 9 classes.\n"
          ]
        }
      ]
    },
    {
      "cell_type": "code",
      "source": [
        "# Testing Dataset\n",
        "x_test=test_datagen.flow_from_directory('/content/drive/MyDrive/Dataset/test_set',target_size=(64,64),class_mode='categorical',batch_size=900)"
      ],
      "metadata": {
        "colab": {
          "base_uri": "https://localhost:8080/"
        },
        "id": "JF0ciSCFGHtG",
        "outputId": "fbdbb636-15fe-41f7-f9ca-b3dfa895af36"
      },
      "execution_count": null,
      "outputs": [
        {
          "output_type": "stream",
          "name": "stdout",
          "text": [
            "Found 2250 images belonging to 9 classes.\n"
          ]
        }
      ]
    },
    {
      "cell_type": "markdown",
      "source": [
        "# ***Sprint - 2***"
      ],
      "metadata": {
        "id": "u7qDmIOOFhfX"
      }
    },
    {
      "cell_type": "markdown",
      "source": [
        "# Model Building"
      ],
      "metadata": {
        "id": "hx91OVlGFp31"
      }
    },
    {
      "cell_type": "code",
      "source": [
        "# Import The Required Model Building Libraries\n",
        "from tensorflow.keras.models import Sequential\n",
        "from tensorflow.keras.layers import Convolution2D,MaxPooling2D,Flatten,Dense"
      ],
      "metadata": {
        "id": "Loia10UKF-7-"
      },
      "execution_count": null,
      "outputs": []
    },
    {
      "cell_type": "code",
      "source": [
        "# Initialize The Model\n",
        "model=Sequential()"
      ],
      "metadata": {
        "id": "sZQTW4TFFzBE"
      },
      "execution_count": null,
      "outputs": []
    },
    {
      "cell_type": "code",
      "source": [
        "# Add The Convolution Layer\n",
        "model.add(Convolution2D(32,(3,3),activation='relu',input_shape=(64,64,3)))"
      ],
      "metadata": {
        "id": "jJmaBETOGfBa"
      },
      "execution_count": null,
      "outputs": []
    },
    {
      "cell_type": "code",
      "source": [
        "# Add The Pooling Layer\n",
        "model.add(MaxPooling2D(pool_size=(2,2)))"
      ],
      "metadata": {
        "id": "U2coNV4cGpVh"
      },
      "execution_count": null,
      "outputs": []
    },
    {
      "cell_type": "code",
      "source": [
        "# Add The Flatten Layer\n",
        "model.add(Flatten())"
      ],
      "metadata": {
        "id": "f0sqVHspG1kG"
      },
      "execution_count": null,
      "outputs": []
    },
    {
      "cell_type": "code",
      "source": [
        "# Adding The Dense Layers\n",
        "model.add(Dense(512,activation='relu'))\n",
        "model.add(Dense(256,activation='relu'))\n",
        "model.add(Dense(9,activation='softmax'))"
      ],
      "metadata": {
        "id": "ddLAjVjFG-Nr"
      },
      "execution_count": null,
      "outputs": []
    },
    {
      "cell_type": "code",
      "source": [
        "# Compile The Model\n",
        "model.compile(loss='categorical_crossentropy',optimizer='adam',metrics=['accuracy'])"
      ],
      "metadata": {
        "id": "M6p4c-yMHa54"
      },
      "execution_count": null,
      "outputs": []
    },
    {
      "cell_type": "code",
      "source": [
        "# Fit the Model\n",
        "model.fit_generator(x_train,steps_per_epoch=len(x_train),epochs=10,validation_data=x_test,validation_steps=len(x_test))"
      ],
      "metadata": {
        "colab": {
          "base_uri": "https://localhost:8080/"
        },
        "id": "PlWQ5rALHmLN",
        "outputId": "cbe615b8-32f7-4300-fff4-198f4128440d"
      },
      "execution_count": null,
      "outputs": [
        {
          "output_type": "stream",
          "name": "stderr",
          "text": [
            "/usr/local/lib/python3.7/dist-packages/ipykernel_launcher.py:2: UserWarning: `Model.fit_generator` is deprecated and will be removed in a future version. Please use `Model.fit`, which supports generators.\n",
            "  \n"
          ]
        },
        {
          "output_type": "stream",
          "name": "stdout",
          "text": [
            "Epoch 1/10\n",
            "16/16 [==============================] - 2604s 164s/step - loss: 1.9601 - accuracy: 0.4551 - val_loss: 0.6767 - val_accuracy: 0.7827\n",
            "Epoch 2/10\n",
            "16/16 [==============================] - 102s 6s/step - loss: 0.4726 - accuracy: 0.8687 - val_loss: 0.3202 - val_accuracy: 0.9147\n",
            "Epoch 3/10\n",
            "16/16 [==============================] - 107s 7s/step - loss: 0.1949 - accuracy: 0.9468 - val_loss: 0.2206 - val_accuracy: 0.9347\n",
            "Epoch 4/10\n",
            "16/16 [==============================] - 101s 6s/step - loss: 0.1017 - accuracy: 0.9725 - val_loss: 0.1718 - val_accuracy: 0.9591\n",
            "Epoch 5/10\n",
            "16/16 [==============================] - 102s 6s/step - loss: 0.0567 - accuracy: 0.9857 - val_loss: 0.1817 - val_accuracy: 0.9698\n",
            "Epoch 6/10\n",
            "16/16 [==============================] - 104s 6s/step - loss: 0.0396 - accuracy: 0.9900 - val_loss: 0.1623 - val_accuracy: 0.9729\n",
            "Epoch 7/10\n",
            "16/16 [==============================] - 100s 6s/step - loss: 0.0275 - accuracy: 0.9942 - val_loss: 0.1730 - val_accuracy: 0.9756\n",
            "Epoch 8/10\n",
            "16/16 [==============================] - 100s 6s/step - loss: 0.0201 - accuracy: 0.9961 - val_loss: 0.1802 - val_accuracy: 0.9756\n",
            "Epoch 9/10\n",
            "16/16 [==============================] - 99s 6s/step - loss: 0.0149 - accuracy: 0.9970 - val_loss: 0.1745 - val_accuracy: 0.9751\n",
            "Epoch 10/10\n",
            "16/16 [==============================] - 100s 6s/step - loss: 0.0116 - accuracy: 0.9978 - val_loss: 0.1881 - val_accuracy: 0.9782\n"
          ]
        },
        {
          "output_type": "execute_result",
          "data": {
            "text/plain": [
              "<keras.callbacks.History at 0x7fe7509931d0>"
            ]
          },
          "metadata": {},
          "execution_count": 21
        }
      ]
    },
    {
      "cell_type": "code",
      "source": [
        "# Save The Model\n",
        "model.save('aslpng1.h5')"
      ],
      "metadata": {
        "id": "_Cy8r1ZoH1qt"
      },
      "execution_count": null,
      "outputs": []
    },
    {
      "cell_type": "markdown",
      "source": [
        "# Test the model"
      ],
      "metadata": {
        "id": "vzq2Bak-OaM0"
      }
    },
    {
      "cell_type": "markdown",
      "source": [
        "Import The Packages And Load The Saved Model"
      ],
      "metadata": {
        "id": "oN6fJ0wvPkRe"
      }
    },
    {
      "cell_type": "code",
      "source": [
        "from tensorflow.keras.models import load_model\n",
        "from tensorflow.keras.preprocessing import image\n",
        "import numpy as np\n",
        "import cv2\n",
        "import matplotlib.pyplot as plt"
      ],
      "metadata": {
        "id": "a7bnpGn8gli4"
      },
      "execution_count": 64,
      "outputs": []
    },
    {
      "cell_type": "code",
      "source": [
        "model=load_model('/content/drive/MyDrive/Model building/aslpng1.h5')"
      ],
      "metadata": {
        "id": "2g7DdxjHiJUg"
      },
      "execution_count": 65,
      "outputs": []
    },
    {
      "cell_type": "markdown",
      "source": [
        "Load The Test Image, Pre-Process It And Predict"
      ],
      "metadata": {
        "id": "pV8RwjI1Qi7R"
      }
    },
    {
      "cell_type": "markdown",
      "source": [
        "**Test_1**"
      ],
      "metadata": {
        "id": "cpl4aI8n5AGZ"
      }
    },
    {
      "cell_type": "code",
      "source": [
        "x = cv2.imread('/content/drive/MyDrive/Dataset/test_set/C/15.png',1)\n",
        "img = cv2.resize(x,(64,64))\n",
        "plt.imshow(img)\n",
        "print(img.shape)"
      ],
      "metadata": {
        "colab": {
          "base_uri": "https://localhost:8080/",
          "height": 285
        },
        "id": "uN-GYhtVgtos",
        "outputId": "7b2424a6-2262-4b69-a1af-653818d2c3c3"
      },
      "execution_count": 66,
      "outputs": [
        {
          "output_type": "stream",
          "name": "stdout",
          "text": [
            "(64, 64, 3)\n"
          ]
        },
        {
          "output_type": "display_data",
          "data": {
            "text/plain": [
              "<Figure size 432x288 with 1 Axes>"
            ],
            "image/png": "[encoded data removed]"
          },
          "metadata": {
            "needs_background": "light"
          }
        }
      ]
    },
    {
      "cell_type": "code",
      "source": [
        "img = image.load_img('/content/drive/MyDrive/Dataset/test_set/C/184.png',target_size=(64,64))\n",
        "x = image.img_to_array(img)\n",
        "x = np.expand_dims(x,axis=0)\n",
        "pred = np.argmax(model.predict(x))\n",
        "op = ['A','B','C','D','E','F','G','H','I']\n",
        "print(\"THE PREDICTED LETTER IS\",op[pred])"
      ],
      "metadata": {
        "id": "FHLvMlei2xHn",
        "colab": {
          "base_uri": "https://localhost:8080/"
        },
        "outputId": "22af9422-1b10-4907-bac1-64a24249df7e"
      },
      "execution_count": 70,
      "outputs": [
        {
          "output_type": "stream",
          "name": "stdout",
          "text": [
            "1/1 [==============================] - 0s 31ms/step\n",
            "THE PREDICTED LETTER IS C\n"
          ]
        }
      ]
    },
    {
      "cell_type": "markdown",
      "source": [
        "**Test_2**"
      ],
      "metadata": {
        "id": "hkKOFfjB5HRT"
      }
    },
    {
      "cell_type": "code",
      "source": [
        "x = cv2.imread('/content/drive/MyDrive/Dataset/test_set/H/65.png',1)\n",
        "img = cv2.resize(x,(64,64))\n",
        "plt.imshow(img)\n",
        "print(img.shape)"
      ],
      "metadata": {
        "colab": {
          "base_uri": "https://localhost:8080/",
          "height": 285
        },
        "id": "VCchtgUg5LXa",
        "outputId": "c17ad889-3a8a-49fa-f075-4853f41d19b9"
      },
      "execution_count": 68,
      "outputs": [
        {
          "output_type": "stream",
          "name": "stdout",
          "text": [
            "(64, 64, 3)\n"
          ]
        },
        {
          "output_type": "display_data",
          "data": {
            "text/plain": [
              "<Figure size 432x288 with 1 Axes>"
            ],
            "image/png": "[encoded data removed]"
          },
          "metadata": {
            "needs_background": "light"
          }
        }
      ]
    },
    {
      "cell_type": "code",
      "source": [
        "img = image.load_img('/content/drive/MyDrive/Dataset/test_set/H/50.png',target_size=(64,64))\n",
        "x = image.img_to_array(img)\n",
        "x = np.expand_dims(x,axis=0)\n",
        "pred = np.argmax(model.predict(x))\n",
        "op = ['A','B','C','D','E','F','G','H','I']\n",
        "print(\"THE PREDICTED LETTER IS\",op[pred])"
      ],
      "metadata": {
        "colab": {
          "base_uri": "https://localhost:8080/"
        },
        "id": "FnHztpbl5TLT",
        "outputId": "d6b40f2a-be2c-41bd-d2d6-0c22332472cc"
      },
      "execution_count": 71,
      "outputs": [
        {
          "output_type": "stream",
          "name": "stdout",
          "text": [
            "1/1 [==============================] - 0s 29ms/step\n",
            "THE PREDICTED LETTER IS H\n"
          ]
        }
      ]
    }
  ]
}